{
 "cells": [
  {
   "cell_type": "code",
   "execution_count": 1,
   "id": "90c43160",
   "metadata": {},
   "outputs": [],
   "source": [
    "import pandas as pd\n",
    "import requests\n",
    "from bs4 import BeautifulSoup\n",
    "from urllib.parse import urlparse\n",
    "from textblob import TextBlob\n",
    "from nltk.corpus import cmudict\n",
    "import syllables\n",
    "import nltk\n",
    "from nltk.tokenize import word_tokenize, sent_tokenize"
   ]
  },
  {
   "cell_type": "code",
   "execution_count": 2,
   "id": "a6871deb",
   "metadata": {},
   "outputs": [],
   "source": [
    "# Assuming your Excel file is named 'Input.xlsx'\n",
    "input_file = 'Input.xlsx'"
   ]
  },
  {
   "cell_type": "code",
   "execution_count": 3,
   "id": "ff0c74c1",
   "metadata": {},
   "outputs": [],
   "source": [
    "df = pd.read_excel(input_file)"
   ]
  },
  {
   "cell_type": "code",
   "execution_count": 4,
   "id": "4fca9bd7",
   "metadata": {},
   "outputs": [],
   "source": [
    "#pip install beautifulsoup4"
   ]
  },
  {
   "cell_type": "markdown",
   "id": "39d10ce0",
   "metadata": {},
   "source": [
    "1. Data Extraction"
   ]
  },
  {
   "cell_type": "code",
   "execution_count": 5,
   "id": "48d2198e",
   "metadata": {},
   "outputs": [
    {
     "name": "stdout",
     "output_type": "stream",
     "text": [
      "Error fetching content from URL in row 35: 404 Client Error: Not Found for url: https://insights.blackcoffer.com/how-neural-networks-can-be-applied-in-various-areas-in-the-future/\n",
      "Error fetching content from URL in row 48: 404 Client Error: Not Found for url: https://insights.blackcoffer.com/covid-19-environmental-impact-for-the-future/\n",
      "Extraction and saving completed.\n"
     ]
    }
   ],
   "source": [
    "# Function to check if the content resembles a URL\n",
    "def is_url(s):\n",
    "    try:\n",
    "        result = urlparse(s)\n",
    "        return all([result.scheme, result.netloc])\n",
    "    except ValueError:\n",
    "        return False\n",
    "\n",
    "# Function to extract article text from HTML\n",
    "def extract_article_text(html_content):\n",
    "    soup = BeautifulSoup(html_content, 'html.parser')\n",
    "    \n",
    "    # Assuming the article text is within the <body> tag\n",
    "    article_text = soup.body.get_text(separator='\\n', strip=True)\n",
    "    \n",
    "    return article_text\n",
    "\n",
    "# Loop through each row in the DataFrame and fetch HTML content from URLs\n",
    "for index, row in df.iterrows():\n",
    "    url_id = row['URL_ID']\n",
    "    \n",
    "    # Make sure to check if the actual column name exists in your DataFrame\n",
    "    try:\n",
    "        html_content_or_url = row['URL']\n",
    "    except KeyError:\n",
    "        print(f\"HTML_Content column not found in row {index}. Please check your column names.\")\n",
    "        continue\n",
    "    \n",
    "    # Check if the content resembles a URL\n",
    "    if is_url(html_content_or_url):\n",
    "        try:\n",
    "            # Fetch HTML content from the URL\n",
    "            response = requests.get(html_content_or_url)\n",
    "            response.raise_for_status()  # Check for request success\n",
    "            html_content = response.text\n",
    "        except requests.exceptions.RequestException as e:\n",
    "            print(f\"Error fetching content from URL in row {index}: {e}\")\n",
    "            continue\n",
    "    else:\n",
    "        # If it's not a URL, assume it's already HTML content\n",
    "        html_content = html_content_or_url\n",
    "    \n",
    "    # Extract article text using the function\n",
    "    article_text = extract_article_text(html_content)\n",
    "    \n",
    "    # Save the extracted article text to a text file\n",
    "    output_file = f'{url_id}.txt'\n",
    "    with open(output_file, 'w', encoding='utf-8') as file:\n",
    "        file.write(article_text)\n",
    "\n",
    "print(\"Extraction and saving completed.\")"
   ]
  },
  {
   "cell_type": "code",
   "execution_count": null,
   "id": "ddec8485",
   "metadata": {},
   "outputs": [],
   "source": [
    "#pip install textblob"
   ]
  },
  {
   "cell_type": "markdown",
   "id": "e1212f5f",
   "metadata": {},
   "source": [
    "#  Function to perform textual analysis and compute variables"
   ]
  },
  {
   "cell_type": "code",
   "execution_count": null,
   "id": "23a5f8de",
   "metadata": {},
   "outputs": [],
   "source": [
    "import pandas as pd\n",
    "from textblob import TextBlob\n",
    "from nltk.tokenize import sent_tokenize, word_tokenize\n",
    "import syllables\n",
    "import nltk\n",
    "\n",
    "# Download necessary NLTK resources\n",
    "# nltk.download('punkt')\n",
    "\n",
    "# Read the extracted article texts and other input variables\n",
    "df = pd.read_excel('Input.xlsx')  # Update with your actual file path\n",
    "\n",
    "# Function to perform textual analysis and compute variables\n",
    "def analyze_text(text):\n",
    "    blob = TextBlob(text)\n",
    "    sentences = sent_tokenize(text)\n",
    "    words = word_tokenize(text)\n",
    "    syllable_count = sum(syllables.estimate(word) for word in words)\n",
    "    personal_pronouns = sum(1 for word, pos in blob.tags if pos == 'PRP')\n",
    "    \n",
    "    return {\n",
    "        'POSITIVE_SCORE': blob.sentiment.polarity,\n",
    "        'NEGATIVE_SCORE': -blob.sentiment.polarity,  # Invert polarity for negative score\n",
    "        'POLARITY_SCORE': blob.sentiment.polarity,\n",
    "        'SUBJECTIVITY_SCORE': blob.sentiment.subjectivity,\n",
    "        'AVG_SENTENCE_LENGTH': sum(len(sent) for sent in sentences) / len(sentences) if len(sentences) > 0 else 0,\n",
    "        'PERCENTAGE_OF_COMPLEX_WORDS': (sum(1 for word in words if len(word) > 2) / len(words)) * 100,\n",
    "        'FOG_INDEX': 0.4 * (blob.sentiment.subjectivity + 100 * (sum(1 for word in words if len(word) > 2) / len(words))),\n",
    "        'AVG_NUMBER_OF_WORDS_PER_SENTENCE': len(words) / len(sentences) if len(sentences) > 0 else 0,\n",
    "        'COMPLEX_WORD_COUNT': sum(1 for word in words if len(word) > 2),\n",
    "        'WORD_COUNT': len(words),\n",
    "        'SYLLABLE_PER_WORD': syllable_count / len(words) if len(words) > 0 else 0,\n",
    "        'PERSONAL_PRONOUNS': personal_pronouns,\n",
    "        'AVG_WORD_LENGTH': sum(len(word) for word in words) / len(words) if len(words) > 0 else 0,\n",
    "    }\n",
    "\n",
    "# Apply the analysis function to each article text in the DataFrame\n",
    "results = df['URL_ID'].apply(analyze_text)\n",
    "\n",
    "# Create a DataFrame with the computed variables\n",
    "output_df = pd.DataFrame(results.tolist())\n",
    "\n",
    "# Concatenate the original DataFrame with the computed variables\n",
    "final_output_df = pd.concat([df, output_df], axis=1)\n",
    "\n",
    "# Save the final output DataFrame to an Excel file\n",
    "final_output_df.to_excel('Output Data Structure.xlsx', index=False)\n"
   ]
  },
  {
   "cell_type": "markdown",
   "id": "25a4aba0",
   "metadata": {},
   "source": [
    "# saving output data in output data structure"
   ]
  },
  {
   "cell_type": "code",
   "execution_count": 15,
   "id": "de74599f",
   "metadata": {},
   "outputs": [],
   "source": [
    "# Assuming 'results' is a list of dictionaries with computed variables for each URL_ID\n",
    "# Replace 'results' with your actual list of dictionaries\n",
    "\n",
    "# Create a DataFrame with computed variables\n",
    "output_df = pd.DataFrame(results)\n",
    "\n",
    "# Assuming 'df' is your original DataFrame with the input variables\n",
    "# Replace 'df' with your actual DataFrame\n",
    "\n",
    "# Merge the computed variables with the original DataFrame based on 'URL_ID'\n",
    "final_output_df = pd.merge(df, output_df, on='URL_ID')\n",
    "\n",
    "# Save the final output DataFrame to an Excel file\n",
    "final_output_df.to_excel(' Output Data Structure.xlsx', index=False)\n",
    "\n"
   ]
  },
  {
   "cell_type": "code",
   "execution_count": 24,
   "id": "412fb253",
   "metadata": {},
   "outputs": [],
   "source": [
    "# pip install syllables"
   ]
  },
  {
   "cell_type": "code",
   "execution_count": 34,
   "id": "a8e43b13",
   "metadata": {},
   "outputs": [
    {
     "name": "stderr",
     "output_type": "stream",
     "text": [
      "[nltk_data] Downloading package cmudict to\n",
      "[nltk_data]     C:\\Users\\hp\\AppData\\Roaming\\nltk_data...\n",
      "[nltk_data]   Package cmudict is already up-to-date!\n"
     ]
    },
    {
     "data": {
      "text/plain": [
       "True"
      ]
     },
     "execution_count": 34,
     "metadata": {},
     "output_type": "execute_result"
    }
   ],
   "source": [
    "# nltk.download('cmudict')"
   ]
  },
  {
   "cell_type": "code",
   "execution_count": null,
   "id": "85af11ee",
   "metadata": {},
   "outputs": [],
   "source": []
  }
 ],
 "metadata": {
  "kernelspec": {
   "display_name": "Python 3 (ipykernel)",
   "language": "python",
   "name": "python3"
  },
  "language_info": {
   "codemirror_mode": {
    "name": "ipython",
    "version": 3
   },
   "file_extension": ".py",
   "mimetype": "text/x-python",
   "name": "python",
   "nbconvert_exporter": "python",
   "pygments_lexer": "ipython3",
   "version": "3.11.5"
  }
 },
 "nbformat": 4,
 "nbformat_minor": 5
}
